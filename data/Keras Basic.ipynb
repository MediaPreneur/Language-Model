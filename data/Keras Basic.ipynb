{
 "cells": [
  {
   "cell_type": "code",
   "execution_count": 1,
   "metadata": {},
   "outputs": [
    {
     "name": "stderr",
     "output_type": "stream",
     "text": [
      "Using TensorFlow backend.\n"
     ]
    }
   ],
   "source": [
    "import keras"
   ]
  },
  {
   "cell_type": "code",
   "execution_count": 14,
   "metadata": {},
   "outputs": [],
   "source": [
    "from keras.layers import Input, Dense, BatchNormalization, Conv1D, AveragePooling1D, AveragePooling2D, Flatten, MaxPooling1D\n",
    "\n",
    "\n",
    "import keras.models\n",
    "import tensorflow as tf"
   ]
  },
  {
   "cell_type": "code",
   "execution_count": 15,
   "metadata": {
    "collapsed": true
   },
   "outputs": [],
   "source": [
    "import keras.utils.np_utils as np_utils"
   ]
  },
  {
   "cell_type": "code",
   "execution_count": 16,
   "metadata": {},
   "outputs": [],
   "source": [
    "import pandas as pd\n",
    "import numpy as np\n",
    "\n",
    "from sklearn.cross_validation import train_test_split"
   ]
  },
  {
   "cell_type": "code",
   "execution_count": 19,
   "metadata": {},
   "outputs": [
    {
     "data": {
      "text/plain": [
       "<contextlib._GeneratorContextManager at 0x265c58abb00>"
      ]
     },
     "execution_count": 19,
     "metadata": {},
     "output_type": "execute_result"
    }
   ],
   "source": [
    "tf.device('/gpu:0')"
   ]
  },
  {
   "cell_type": "code",
   "execution_count": 5,
   "metadata": {},
   "outputs": [],
   "source": [
    "data = np.load('datav1.npy').reshape((-1, 176400,1))\n",
    "labels = np_utils.to_categorical(np.load('labelsv1.npy').reshape((-1, 1))).reshape((-1,3))"
   ]
  },
  {
   "cell_type": "code",
   "execution_count": 6,
   "metadata": {},
   "outputs": [],
   "source": [
    "x_train, x_test, y_train, y_test = train_test_split(data, labels)"
   ]
  },
  {
   "cell_type": "code",
   "execution_count": 7,
   "metadata": {},
   "outputs": [
    {
     "data": {
      "text/plain": [
       "(492, 3)"
      ]
     },
     "execution_count": 7,
     "metadata": {},
     "output_type": "execute_result"
    }
   ],
   "source": [
    "y_train.shape"
   ]
  },
  {
   "cell_type": "code",
   "execution_count": 8,
   "metadata": {},
   "outputs": [
    {
     "data": {
      "text/plain": [
       "(492, 176400, 1)"
      ]
     },
     "execution_count": 8,
     "metadata": {},
     "output_type": "execute_result"
    }
   ],
   "source": [
    "x_train.shape"
   ]
  },
  {
   "cell_type": "code",
   "execution_count": null,
   "metadata": {
    "scrolled": true
   },
   "outputs": [
    {
     "name": "stdout",
     "output_type": "stream",
     "text": [
      "WARNING:tensorflow:Tried to colocate gradients_1/batch_normalization_8/moments/sufficient_statistics/count_grad/Rank with an op batch_normalization_8/moments/sufficient_statistics/count that had a different device: /device:CPU:0 vs /device:GPU:0. Ignoring colocation property.\n",
      "WARNING:tensorflow:Tried to colocate gradients_1/batch_normalization_8/moments/sufficient_statistics/count_grad/range_1/start with an op batch_normalization_8/moments/sufficient_statistics/count that had a different device: /device:CPU:0 vs /device:GPU:0. Ignoring colocation property.\n",
      "WARNING:tensorflow:Tried to colocate gradients_1/batch_normalization_8/moments/sufficient_statistics/count_grad/range_1/delta with an op batch_normalization_8/moments/sufficient_statistics/count that had a different device: /device:CPU:0 vs /device:GPU:0. Ignoring colocation property.\n",
      "WARNING:tensorflow:Tried to colocate gradients_1/batch_normalization_8/moments/sufficient_statistics/count_grad/range_1 with an op batch_normalization_8/moments/sufficient_statistics/count that had a different device: /device:CPU:0 vs /device:GPU:0. Ignoring colocation property.\n",
      "WARNING:tensorflow:Tried to colocate gradients_1/batch_normalization_8/moments/sufficient_statistics/count_grad/ListDiff with an op batch_normalization_8/moments/sufficient_statistics/count that had a different device: /device:CPU:0 vs /device:GPU:0. Ignoring colocation property.\n",
      "WARNING:tensorflow:Tried to colocate gradients_1/batch_normalization_8/moments/sufficient_statistics/count_grad/concat/axis with an op batch_normalization_8/moments/sufficient_statistics/count that had a different device: /device:CPU:0 vs /device:GPU:0. Ignoring colocation property.\n",
      "WARNING:tensorflow:Tried to colocate gradients_1/batch_normalization_8/moments/sufficient_statistics/count_grad/concat with an op batch_normalization_8/moments/sufficient_statistics/count that had a different device: /device:CPU:0 vs /device:GPU:0. Ignoring colocation property.\n",
      "WARNING:tensorflow:Tried to colocate gradients_1/batch_normalization_8/moments/sufficient_statistics/count_grad/Gather with an op batch_normalization_8/moments/sufficient_statistics/count that had a different device: /device:CPU:0 vs /device:GPU:0. Ignoring colocation property.\n",
      "WARNING:tensorflow:Tried to colocate gradients_1/batch_normalization_8/moments/sufficient_statistics/count_grad/Const with an op batch_normalization_8/moments/sufficient_statistics/count that had a different device: /device:CPU:0 vs /device:GPU:0. Ignoring colocation property.\n",
      "WARNING:tensorflow:Tried to colocate gradients_1/batch_normalization_8/moments/sufficient_statistics/count_grad/Prod with an op batch_normalization_8/moments/sufficient_statistics/count that had a different device: /device:CPU:0 vs /device:GPU:0. Ignoring colocation property.\n",
      "WARNING:tensorflow:Tried to colocate gradients_1/batch_normalization_8/moments/sufficient_statistics/count_grad/Gather_1 with an op batch_normalization_8/moments/sufficient_statistics/count that had a different device: /device:CPU:0 vs /device:GPU:0. Ignoring colocation property.\n",
      "WARNING:tensorflow:Tried to colocate gradients_1/batch_normalization_8/moments/sufficient_statistics/count_grad/Const_1 with an op batch_normalization_8/moments/sufficient_statistics/count that had a different device: /device:CPU:0 vs /device:GPU:0. Ignoring colocation property.\n",
      "WARNING:tensorflow:Tried to colocate gradients_1/batch_normalization_8/moments/sufficient_statistics/count_grad/Prod_1 with an op batch_normalization_8/moments/sufficient_statistics/count that had a different device: /device:CPU:0 vs /device:GPU:0. Ignoring colocation property.\n",
      "WARNING:tensorflow:Tried to colocate gradients_1/batch_normalization_7/moments/sufficient_statistics/count_grad/Rank with an op batch_normalization_7/moments/sufficient_statistics/count that had a different device: /device:CPU:0 vs /device:GPU:0. Ignoring colocation property.\n",
      "WARNING:tensorflow:Tried to colocate gradients_1/batch_normalization_7/moments/sufficient_statistics/count_grad/range_1/start with an op batch_normalization_7/moments/sufficient_statistics/count that had a different device: /device:CPU:0 vs /device:GPU:0. Ignoring colocation property.\n",
      "WARNING:tensorflow:Tried to colocate gradients_1/batch_normalization_7/moments/sufficient_statistics/count_grad/range_1/delta with an op batch_normalization_7/moments/sufficient_statistics/count that had a different device: /device:CPU:0 vs /device:GPU:0. Ignoring colocation property.\n",
      "WARNING:tensorflow:Tried to colocate gradients_1/batch_normalization_7/moments/sufficient_statistics/count_grad/range_1 with an op batch_normalization_7/moments/sufficient_statistics/count that had a different device: /device:CPU:0 vs /device:GPU:0. Ignoring colocation property.\n",
      "WARNING:tensorflow:Tried to colocate gradients_1/batch_normalization_7/moments/sufficient_statistics/count_grad/ListDiff with an op batch_normalization_7/moments/sufficient_statistics/count that had a different device: /device:CPU:0 vs /device:GPU:0. Ignoring colocation property.\n",
      "WARNING:tensorflow:Tried to colocate gradients_1/batch_normalization_7/moments/sufficient_statistics/count_grad/concat/axis with an op batch_normalization_7/moments/sufficient_statistics/count that had a different device: /device:CPU:0 vs /device:GPU:0. Ignoring colocation property.\n",
      "WARNING:tensorflow:Tried to colocate gradients_1/batch_normalization_7/moments/sufficient_statistics/count_grad/concat with an op batch_normalization_7/moments/sufficient_statistics/count that had a different device: /device:CPU:0 vs /device:GPU:0. Ignoring colocation property.\n",
      "WARNING:tensorflow:Tried to colocate gradients_1/batch_normalization_7/moments/sufficient_statistics/count_grad/Gather with an op batch_normalization_7/moments/sufficient_statistics/count that had a different device: /device:CPU:0 vs /device:GPU:0. Ignoring colocation property.\n",
      "WARNING:tensorflow:Tried to colocate gradients_1/batch_normalization_7/moments/sufficient_statistics/count_grad/Const with an op batch_normalization_7/moments/sufficient_statistics/count that had a different device: /device:CPU:0 vs /device:GPU:0. Ignoring colocation property.\n",
      "WARNING:tensorflow:Tried to colocate gradients_1/batch_normalization_7/moments/sufficient_statistics/count_grad/Prod with an op batch_normalization_7/moments/sufficient_statistics/count that had a different device: /device:CPU:0 vs /device:GPU:0. Ignoring colocation property.\n",
      "WARNING:tensorflow:Tried to colocate gradients_1/batch_normalization_7/moments/sufficient_statistics/count_grad/Gather_1 with an op batch_normalization_7/moments/sufficient_statistics/count that had a different device: /device:CPU:0 vs /device:GPU:0. Ignoring colocation property.\n",
      "WARNING:tensorflow:Tried to colocate gradients_1/batch_normalization_7/moments/sufficient_statistics/count_grad/Const_1 with an op batch_normalization_7/moments/sufficient_statistics/count that had a different device: /device:CPU:0 vs /device:GPU:0. Ignoring colocation property.\n",
      "WARNING:tensorflow:Tried to colocate gradients_1/batch_normalization_7/moments/sufficient_statistics/count_grad/Prod_1 with an op batch_normalization_7/moments/sufficient_statistics/count that had a different device: /device:CPU:0 vs /device:GPU:0. Ignoring colocation property.\n",
      "WARNING:tensorflow:Tried to colocate gradients_1/batch_normalization_6/moments/sufficient_statistics/count_grad/Rank with an op batch_normalization_6/moments/sufficient_statistics/count that had a different device: /device:CPU:0 vs /device:GPU:0. Ignoring colocation property.\n",
      "WARNING:tensorflow:Tried to colocate gradients_1/batch_normalization_6/moments/sufficient_statistics/count_grad/range_1/start with an op batch_normalization_6/moments/sufficient_statistics/count that had a different device: /device:CPU:0 vs /device:GPU:0. Ignoring colocation property.\n",
      "WARNING:tensorflow:Tried to colocate gradients_1/batch_normalization_6/moments/sufficient_statistics/count_grad/range_1/delta with an op batch_normalization_6/moments/sufficient_statistics/count that had a different device: /device:CPU:0 vs /device:GPU:0. Ignoring colocation property.\n",
      "WARNING:tensorflow:Tried to colocate gradients_1/batch_normalization_6/moments/sufficient_statistics/count_grad/range_1 with an op batch_normalization_6/moments/sufficient_statistics/count that had a different device: /device:CPU:0 vs /device:GPU:0. Ignoring colocation property.\n",
      "WARNING:tensorflow:Tried to colocate gradients_1/batch_normalization_6/moments/sufficient_statistics/count_grad/ListDiff with an op batch_normalization_6/moments/sufficient_statistics/count that had a different device: /device:CPU:0 vs /device:GPU:0. Ignoring colocation property.\n",
      "WARNING:tensorflow:Tried to colocate gradients_1/batch_normalization_6/moments/sufficient_statistics/count_grad/concat/axis with an op batch_normalization_6/moments/sufficient_statistics/count that had a different device: /device:CPU:0 vs /device:GPU:0. Ignoring colocation property.\n",
      "WARNING:tensorflow:Tried to colocate gradients_1/batch_normalization_6/moments/sufficient_statistics/count_grad/concat with an op batch_normalization_6/moments/sufficient_statistics/count that had a different device: /device:CPU:0 vs /device:GPU:0. Ignoring colocation property.\n",
      "WARNING:tensorflow:Tried to colocate gradients_1/batch_normalization_6/moments/sufficient_statistics/count_grad/Gather with an op batch_normalization_6/moments/sufficient_statistics/count that had a different device: /device:CPU:0 vs /device:GPU:0. Ignoring colocation property.\n",
      "WARNING:tensorflow:Tried to colocate gradients_1/batch_normalization_6/moments/sufficient_statistics/count_grad/Const with an op batch_normalization_6/moments/sufficient_statistics/count that had a different device: /device:CPU:0 vs /device:GPU:0. Ignoring colocation property.\n",
      "WARNING:tensorflow:Tried to colocate gradients_1/batch_normalization_6/moments/sufficient_statistics/count_grad/Prod with an op batch_normalization_6/moments/sufficient_statistics/count that had a different device: /device:CPU:0 vs /device:GPU:0. Ignoring colocation property.\n",
      "WARNING:tensorflow:Tried to colocate gradients_1/batch_normalization_6/moments/sufficient_statistics/count_grad/Gather_1 with an op batch_normalization_6/moments/sufficient_statistics/count that had a different device: /device:CPU:0 vs /device:GPU:0. Ignoring colocation property.\n",
      "WARNING:tensorflow:Tried to colocate gradients_1/batch_normalization_6/moments/sufficient_statistics/count_grad/Const_1 with an op batch_normalization_6/moments/sufficient_statistics/count that had a different device: /device:CPU:0 vs /device:GPU:0. Ignoring colocation property.\n",
      "WARNING:tensorflow:Tried to colocate gradients_1/batch_normalization_6/moments/sufficient_statistics/count_grad/Prod_1 with an op batch_normalization_6/moments/sufficient_statistics/count that had a different device: /device:CPU:0 vs /device:GPU:0. Ignoring colocation property.\n",
      "WARNING:tensorflow:Tried to colocate gradients_1/batch_normalization_5/moments/sufficient_statistics/count_grad/Rank with an op batch_normalization_5/moments/sufficient_statistics/count that had a different device: /device:CPU:0 vs /device:GPU:0. Ignoring colocation property.\n",
      "WARNING:tensorflow:Tried to colocate gradients_1/batch_normalization_5/moments/sufficient_statistics/count_grad/range_1/start with an op batch_normalization_5/moments/sufficient_statistics/count that had a different device: /device:CPU:0 vs /device:GPU:0. Ignoring colocation property.\n",
      "WARNING:tensorflow:Tried to colocate gradients_1/batch_normalization_5/moments/sufficient_statistics/count_grad/range_1/delta with an op batch_normalization_5/moments/sufficient_statistics/count that had a different device: /device:CPU:0 vs /device:GPU:0. Ignoring colocation property.\n",
      "WARNING:tensorflow:Tried to colocate gradients_1/batch_normalization_5/moments/sufficient_statistics/count_grad/range_1 with an op batch_normalization_5/moments/sufficient_statistics/count that had a different device: /device:CPU:0 vs /device:GPU:0. Ignoring colocation property.\n",
      "WARNING:tensorflow:Tried to colocate gradients_1/batch_normalization_5/moments/sufficient_statistics/count_grad/ListDiff with an op batch_normalization_5/moments/sufficient_statistics/count that had a different device: /device:CPU:0 vs /device:GPU:0. Ignoring colocation property.\n",
      "WARNING:tensorflow:Tried to colocate gradients_1/batch_normalization_5/moments/sufficient_statistics/count_grad/concat/axis with an op batch_normalization_5/moments/sufficient_statistics/count that had a different device: /device:CPU:0 vs /device:GPU:0. Ignoring colocation property.\n",
      "WARNING:tensorflow:Tried to colocate gradients_1/batch_normalization_5/moments/sufficient_statistics/count_grad/concat with an op batch_normalization_5/moments/sufficient_statistics/count that had a different device: /device:CPU:0 vs /device:GPU:0. Ignoring colocation property.\n",
      "WARNING:tensorflow:Tried to colocate gradients_1/batch_normalization_5/moments/sufficient_statistics/count_grad/Gather with an op batch_normalization_5/moments/sufficient_statistics/count that had a different device: /device:CPU:0 vs /device:GPU:0. Ignoring colocation property.\n",
      "WARNING:tensorflow:Tried to colocate gradients_1/batch_normalization_5/moments/sufficient_statistics/count_grad/Const with an op batch_normalization_5/moments/sufficient_statistics/count that had a different device: /device:CPU:0 vs /device:GPU:0. Ignoring colocation property.\n",
      "WARNING:tensorflow:Tried to colocate gradients_1/batch_normalization_5/moments/sufficient_statistics/count_grad/Prod with an op batch_normalization_5/moments/sufficient_statistics/count that had a different device: /device:CPU:0 vs /device:GPU:0. Ignoring colocation property.\n",
      "WARNING:tensorflow:Tried to colocate gradients_1/batch_normalization_5/moments/sufficient_statistics/count_grad/Gather_1 with an op batch_normalization_5/moments/sufficient_statistics/count that had a different device: /device:CPU:0 vs /device:GPU:0. Ignoring colocation property.\n",
      "WARNING:tensorflow:Tried to colocate gradients_1/batch_normalization_5/moments/sufficient_statistics/count_grad/Const_1 with an op batch_normalization_5/moments/sufficient_statistics/count that had a different device: /device:CPU:0 vs /device:GPU:0. Ignoring colocation property.\n",
      "WARNING:tensorflow:Tried to colocate gradients_1/batch_normalization_5/moments/sufficient_statistics/count_grad/Prod_1 with an op batch_normalization_5/moments/sufficient_statistics/count that had a different device: /device:CPU:0 vs /device:GPU:0. Ignoring colocation property.\n",
      "Epoch 1/5\n",
      "220/492 [============>.................] - ETA: 65s - loss: 1.3111 - acc: 0.4364 \b\b\b\b\b\b\b\b\b\b\b\b\b\b\b\b\b\b\b\b\b\b\b\b\b\b\b\b\b\b\b\b\b\b\b\b\b\b\b\b\b\b\b\b\b\b\b\b\b\b\b\b\b\b\b\b\b\b\b\b\b\b\b\b\b\b\b\b\b\b\b\b\b\b\b\b\b\b\b\b\b\b\b\b\b\b\b\b\b\b\b\b\b\b\b\b\b\b\b\b\b\b\b\b\b\b\b\b\b\b\b\b\b\b\b\b\b\b\b\b\b\b\b\b\b\b\b\b\b\b\b\b\b\b\b\b\b\b\b\b\b\b\b\b\b\b\b\b\b\b\b\b\b\b\b\b\b\b\b\b\b\b\b\b\b\b\b\b\b\b\b\b\b\b\b\b\b\b\b\b\b\b\b\b\b\b\b\b\b\b\b\b\b\b\b\b\b\b\b\b\b\b\b\b\b\b\b\b\b\b\b\b\b\b\b\b\b\b\b\b\b\b\b\b\b\b\b\b\b\b\b\b\b\b\b\b\b\b\b\b\b\b\b\b\b\b\b\b\b\b\b\b\b\b\b\b\b\b\b\b\b\b\b\b\b\b\b\b\b\b\b\b\b\b\b\b\b\b\b\b\b\b\b\b\b\b\b\b\b\b\b\b\b\b\b\b\b\b\b\b\b\b\b\b\b\b\b\b\b\b\b\b\b\b\b\b\b\b\b\b\b\b\b\b\b\b\b\b\b\b\b\b\b\b\b\b\b\b\b\b\b\b\b\b\b\b\b\b\b\b\b\b\b\b\b\b\b\b\b\b\b\b\b\b\b\b\b\b\b\b\b\b\b\b\b\b\b\b\b\b\b\b\b\b\b\b\b\b\b\b\b\b\b\b\b\b\b\b\b\b\b\b\b\b\b\b\b\b\b\b\b\b\b\b\b\b\b\b\b\b\b\b\b\b\b\b\b\b\b\b\b\b\b\b\b\b\b\b\b\b\b\b\b\b\b\b\b\b\b\b\b\b\b\b\b\b\b\b\b\b\b\b\b\b\b\b\b\b\b\b\b\b\b\b\b\b\b\b\b\b\b\b\b\b\b\b\b\b\b\b\b\b\b\b\b\b\b\b\b\b\b\b\b\b\b\b\b\b\b\b\b\b\b\b\b\b\b\b\b\b\b\b\b\b\b\b\b\b\b\b\b\b\b\b\b\b\b\b\b\b\b\b\b\b\b\b\b\b\b\b\b\b\b\b\b\b\b\b\b\b\b\b\b\b\b\b\b\b\b\b\b\b\b\b\b\b\b\b\b\b\b\b\b\b\b\b\b\b\b\b\b\b\b\b\b\b\b\b\b\b\b\b\b\b\b\b\b\b\b\b\b\b\b\b\b\b\b\b\b\b\b\b\b\b\b\b\b\b\b\b\b\b\b\b\b\b\b\b\b\b\b\b\b\b\b\b\b\b\b\b\b\b\b\b\b\b\b\b\b\b\b\b\b\b\b\b\b\b\b\b\b\b\b\b\b\b\b\b\b\b\b\b\b\b\b\b\b\b\b\b\b\b\b\b\b\b\b\b\b\b\b\b\b\b\b\b\b\b\b\b\b\b\b\b\b\b\b\b\b\b\b\b\b\b\b\b\b\b\b\b\b\b\b\b\b\b\b\b\b\b\b\b\b\b\b\b\b\b\b\b\b\b\b\b\b\b\b\b\b\b\b\b\b\b\b\b\b\b\b\b\b\b\b\b\b\b\b\b\b\b\b\b\b\b\b\b\b\b\b\b\b\b\b\b\b\b\b\b\b\b\b\b\b\b"
     ]
    }
   ],
   "source": [
    "import scipy.fftpack as fft\n",
    "fft.rfft(x_train[0]).shape\n",
    "\n",
    "with tf.device('/gpu:0'):\n",
    "    inp = Input(shape=(176400,1))\n",
    "\n",
    "    x = Conv1D(12, kernel_size=(16), activation='relu')(inp)\n",
    "\n",
    "\n",
    "    x = BatchNormalization()(x)\n",
    "    x = MaxPooling1D(pool_size=16)(x)\n",
    "\n",
    "    x = Conv1D(12, kernel_size=(16), activation='relu')(x)\n",
    "    x = BatchNormalization()(x)\n",
    "    x = MaxPooling1D(pool_size=16)(x)\n",
    "\n",
    "    x = Conv1D(12, kernel_size=(16), activation='relu')(x)\n",
    "    x = BatchNormalization()(x)\n",
    "    x = MaxPooling1D(pool_size=16)(x)\n",
    "\n",
    "    x = Conv1D(12, kernel_size=(16), activation='relu')(x)\n",
    "    x = BatchNormalization()(x)\n",
    "    x = MaxPooling1D(pool_size=14)(x)\n",
    "    x = Flatten()(x)\n",
    "    x = Dense(3, activation='softmax')(x)\n",
    "    model = keras.models.Model(inputs=inp, outputs=x)\n",
    "\n",
    "\n",
    "    model.compile(optimizer='adam',\n",
    "              loss='categorical_crossentropy',\n",
    "              metrics=['accuracy'])\n",
    "\n",
    "    model.fit(x_train, y_train, batch_size=20, epochs=5)"
   ]
  },
  {
   "cell_type": "code",
   "execution_count": 50,
   "metadata": {},
   "outputs": [
    {
     "ename": "ValueError",
     "evalue": "Error when checking : expected input_9 to have 3 dimensions, but got array with shape (165, 3)",
     "output_type": "error",
     "traceback": [
      "\u001b[0;31m--------------------------------------------------------------------------\u001b[0m",
      "\u001b[0;31mValueError\u001b[0m                               Traceback (most recent call last)",
      "\u001b[0;32m<ipython-input-50-e7fdb5e21b82>\u001b[0m in \u001b[0;36m<module>\u001b[0;34m()\u001b[0m\n\u001b[0;32m----> 1\u001b[0;31m \u001b[0mmodel\u001b[0m\u001b[1;33m.\u001b[0m\u001b[0mpredict\u001b[0m\u001b[1;33m(\u001b[0m\u001b[0my_test\u001b[0m\u001b[1;33m)\u001b[0m\u001b[1;33m\u001b[0m\u001b[0m\n\u001b[0m",
      "\u001b[0;32mC:\\Users\\johnvial\\Anaconda3\\envs\\tf12\\lib\\site-packages\\keras\\engine\\training.py\u001b[0m in \u001b[0;36mpredict\u001b[0;34m(self, x, batch_size, verbose)\u001b[0m\n\u001b[1;32m   1565\u001b[0m         x = _standardize_input_data(x, self._feed_input_names,\n\u001b[1;32m   1566\u001b[0m                                     \u001b[0mself\u001b[0m\u001b[1;33m.\u001b[0m\u001b[0m_feed_input_shapes\u001b[0m\u001b[1;33m,\u001b[0m\u001b[1;33m\u001b[0m\u001b[0m\n\u001b[0;32m-> 1567\u001b[0;31m                                     check_batch_axis=False)\n\u001b[0m\u001b[1;32m   1568\u001b[0m         \u001b[1;32mif\u001b[0m \u001b[0mself\u001b[0m\u001b[1;33m.\u001b[0m\u001b[0mstateful\u001b[0m\u001b[1;33m:\u001b[0m\u001b[1;33m\u001b[0m\u001b[0m\n\u001b[1;32m   1569\u001b[0m             \u001b[1;32mif\u001b[0m \u001b[0mx\u001b[0m\u001b[1;33m[\u001b[0m\u001b[1;36m0\u001b[0m\u001b[1;33m]\u001b[0m\u001b[1;33m.\u001b[0m\u001b[0mshape\u001b[0m\u001b[1;33m[\u001b[0m\u001b[1;36m0\u001b[0m\u001b[1;33m]\u001b[0m \u001b[1;33m>\u001b[0m \u001b[0mbatch_size\u001b[0m \u001b[1;32mand\u001b[0m \u001b[0mx\u001b[0m\u001b[1;33m[\u001b[0m\u001b[1;36m0\u001b[0m\u001b[1;33m]\u001b[0m\u001b[1;33m.\u001b[0m\u001b[0mshape\u001b[0m\u001b[1;33m[\u001b[0m\u001b[1;36m0\u001b[0m\u001b[1;33m]\u001b[0m \u001b[1;33m%\u001b[0m \u001b[0mbatch_size\u001b[0m \u001b[1;33m!=\u001b[0m \u001b[1;36m0\u001b[0m\u001b[1;33m:\u001b[0m\u001b[1;33m\u001b[0m\u001b[0m\n",
      "\u001b[0;32mC:\\Users\\johnvial\\Anaconda3\\envs\\tf12\\lib\\site-packages\\keras\\engine\\training.py\u001b[0m in \u001b[0;36m_standardize_input_data\u001b[0;34m(data, names, shapes, check_batch_axis, exception_prefix)\u001b[0m\n\u001b[1;32m    125\u001b[0m                                  \u001b[1;34m' to have '\u001b[0m \u001b[1;33m+\u001b[0m \u001b[0mstr\u001b[0m\u001b[1;33m(\u001b[0m\u001b[0mlen\u001b[0m\u001b[1;33m(\u001b[0m\u001b[0mshapes\u001b[0m\u001b[1;33m[\u001b[0m\u001b[0mi\u001b[0m\u001b[1;33m]\u001b[0m\u001b[1;33m)\u001b[0m\u001b[1;33m)\u001b[0m \u001b[1;33m+\u001b[0m\u001b[1;33m\u001b[0m\u001b[0m\n\u001b[1;32m    126\u001b[0m                                  \u001b[1;34m' dimensions, but got array with shape '\u001b[0m \u001b[1;33m+\u001b[0m\u001b[1;33m\u001b[0m\u001b[0m\n\u001b[0;32m--> 127\u001b[0;31m                                  str(array.shape))\n\u001b[0m\u001b[1;32m    128\u001b[0m             \u001b[1;32mfor\u001b[0m \u001b[0mj\u001b[0m\u001b[1;33m,\u001b[0m \u001b[1;33m(\u001b[0m\u001b[0mdim\u001b[0m\u001b[1;33m,\u001b[0m \u001b[0mref_dim\u001b[0m\u001b[1;33m)\u001b[0m \u001b[1;32min\u001b[0m \u001b[0menumerate\u001b[0m\u001b[1;33m(\u001b[0m\u001b[0mzip\u001b[0m\u001b[1;33m(\u001b[0m\u001b[0marray\u001b[0m\u001b[1;33m.\u001b[0m\u001b[0mshape\u001b[0m\u001b[1;33m,\u001b[0m \u001b[0mshapes\u001b[0m\u001b[1;33m[\u001b[0m\u001b[0mi\u001b[0m\u001b[1;33m]\u001b[0m\u001b[1;33m)\u001b[0m\u001b[1;33m)\u001b[0m\u001b[1;33m:\u001b[0m\u001b[1;33m\u001b[0m\u001b[0m\n\u001b[1;32m    129\u001b[0m                 \u001b[1;32mif\u001b[0m \u001b[1;32mnot\u001b[0m \u001b[0mj\u001b[0m \u001b[1;32mand\u001b[0m \u001b[1;32mnot\u001b[0m \u001b[0mcheck_batch_axis\u001b[0m\u001b[1;33m:\u001b[0m\u001b[1;33m\u001b[0m\u001b[0m\n",
      "\u001b[0;31mValueError\u001b[0m: Error when checking : expected input_9 to have 3 dimensions, but got array with shape (165, 3)"
     ]
    }
   ],
   "source": [
    "model.predict(y_test)"
   ]
  },
  {
   "cell_type": "code",
   "execution_count": null,
   "metadata": {
    "collapsed": true
   },
   "outputs": [],
   "source": []
  }
 ],
 "metadata": {
  "kernelspec": {
   "display_name": "Python 3",
   "language": "python",
   "name": "python3"
  },
  "language_info": {
   "codemirror_mode": {
    "name": "ipython",
    "version": 3
   },
   "file_extension": ".py",
   "mimetype": "text/x-python",
   "name": "python",
   "nbconvert_exporter": "python",
   "pygments_lexer": "ipython3",
   "version": "3.6.1"
  }
 },
 "nbformat": 4,
 "nbformat_minor": 2
}
